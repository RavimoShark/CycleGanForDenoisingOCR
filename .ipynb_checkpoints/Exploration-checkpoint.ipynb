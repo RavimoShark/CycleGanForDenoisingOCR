{
 "cells": [
  {
   "cell_type": "markdown",
   "metadata": {},
   "source": [
    "### Import"
   ]
  },
  {
   "cell_type": "code",
   "execution_count": 1,
   "metadata": {},
   "outputs": [],
   "source": [
    "import pandas as pd\n",
    "import numpy as np\n",
    "import torch\n",
    "import torchvision\n",
    "import random\n",
    "import glob\n",
    "import PIL.Image\n",
    "from PIL import Image\n",
    "from PIL import ImageFont\n",
    "from PIL import ImageDraw "
   ]
  },
  {
   "cell_type": "markdown",
   "metadata": {},
   "source": [
    "### Results from Deep Font Classifier"
   ]
  },
  {
   "cell_type": "code",
   "execution_count": 2,
   "metadata": {},
   "outputs": [
    {
     "data": {
      "text/html": [
       "<div>\n",
       "<style scoped>\n",
       "    .dataframe tbody tr th:only-of-type {\n",
       "        vertical-align: middle;\n",
       "    }\n",
       "\n",
       "    .dataframe tbody tr th {\n",
       "        vertical-align: top;\n",
       "    }\n",
       "\n",
       "    .dataframe thead th {\n",
       "        text-align: right;\n",
       "    }\n",
       "</style>\n",
       "<table border=\"1\" class=\"dataframe\">\n",
       "  <thead>\n",
       "    <tr style=\"text-align: right;\">\n",
       "      <th></th>\n",
       "      <th>Unnamed: 0</th>\n",
       "      <th>font_1</th>\n",
       "      <th>font_2</th>\n",
       "      <th>font_3</th>\n",
       "      <th>font_4</th>\n",
       "      <th>font_5</th>\n",
       "      <th>p_1</th>\n",
       "      <th>p_2</th>\n",
       "      <th>p_3</th>\n",
       "      <th>p_4</th>\n",
       "      <th>p_5</th>\n",
       "    </tr>\n",
       "  </thead>\n",
       "  <tbody>\n",
       "    <tr>\n",
       "      <th>0</th>\n",
       "      <td>0</td>\n",
       "      <td>1055.0</td>\n",
       "      <td>2185.0</td>\n",
       "      <td>2181.0</td>\n",
       "      <td>884.0</td>\n",
       "      <td>1047.0</td>\n",
       "      <td>1.361250e-37</td>\n",
       "      <td>2.224912e-22</td>\n",
       "      <td>4.130124e-13</td>\n",
       "      <td>7.546972e-02</td>\n",
       "      <td>0.92453</td>\n",
       "    </tr>\n",
       "    <tr>\n",
       "      <th>1</th>\n",
       "      <td>1</td>\n",
       "      <td>791.0</td>\n",
       "      <td>2382.0</td>\n",
       "      <td>901.0</td>\n",
       "      <td>884.0</td>\n",
       "      <td>2185.0</td>\n",
       "      <td>0.000000e+00</td>\n",
       "      <td>0.000000e+00</td>\n",
       "      <td>6.558077e-43</td>\n",
       "      <td>6.240193e-33</td>\n",
       "      <td>1.00000</td>\n",
       "    </tr>\n",
       "    <tr>\n",
       "      <th>2</th>\n",
       "      <td>2</td>\n",
       "      <td>795.0</td>\n",
       "      <td>796.0</td>\n",
       "      <td>797.0</td>\n",
       "      <td>2382.0</td>\n",
       "      <td>837.0</td>\n",
       "      <td>0.000000e+00</td>\n",
       "      <td>0.000000e+00</td>\n",
       "      <td>0.000000e+00</td>\n",
       "      <td>0.000000e+00</td>\n",
       "      <td>1.00000</td>\n",
       "    </tr>\n",
       "    <tr>\n",
       "      <th>3</th>\n",
       "      <td>3</td>\n",
       "      <td>2200.0</td>\n",
       "      <td>2186.0</td>\n",
       "      <td>386.0</td>\n",
       "      <td>2117.0</td>\n",
       "      <td>2181.0</td>\n",
       "      <td>2.720750e-16</td>\n",
       "      <td>5.800397e-16</td>\n",
       "      <td>6.691995e-10</td>\n",
       "      <td>4.592448e-09</td>\n",
       "      <td>1.00000</td>\n",
       "    </tr>\n",
       "    <tr>\n",
       "      <th>4</th>\n",
       "      <td>4</td>\n",
       "      <td>796.0</td>\n",
       "      <td>797.0</td>\n",
       "      <td>790.0</td>\n",
       "      <td>837.0</td>\n",
       "      <td>887.0</td>\n",
       "      <td>0.000000e+00</td>\n",
       "      <td>0.000000e+00</td>\n",
       "      <td>0.000000e+00</td>\n",
       "      <td>1.632585e-25</td>\n",
       "      <td>1.00000</td>\n",
       "    </tr>\n",
       "  </tbody>\n",
       "</table>\n",
       "</div>"
      ],
      "text/plain": [
       "   Unnamed: 0  font_1  font_2  font_3  font_4  font_5           p_1  \\\n",
       "0           0  1055.0  2185.0  2181.0   884.0  1047.0  1.361250e-37   \n",
       "1           1   791.0  2382.0   901.0   884.0  2185.0  0.000000e+00   \n",
       "2           2   795.0   796.0   797.0  2382.0   837.0  0.000000e+00   \n",
       "3           3  2200.0  2186.0   386.0  2117.0  2181.0  2.720750e-16   \n",
       "4           4   796.0   797.0   790.0   837.0   887.0  0.000000e+00   \n",
       "\n",
       "            p_2           p_3           p_4      p_5  \n",
       "0  2.224912e-22  4.130124e-13  7.546972e-02  0.92453  \n",
       "1  0.000000e+00  6.558077e-43  6.240193e-33  1.00000  \n",
       "2  0.000000e+00  0.000000e+00  0.000000e+00  1.00000  \n",
       "3  5.800397e-16  6.691995e-10  4.592448e-09  1.00000  \n",
       "4  0.000000e+00  0.000000e+00  1.632585e-25  1.00000  "
      ]
     },
     "execution_count": 2,
     "metadata": {},
     "output_type": "execute_result"
    }
   ],
   "source": [
    "res = pd.read_csv('Resultats/results_real.csv')\n",
    "res.head(5)"
   ]
  },
  {
   "cell_type": "code",
   "execution_count": 3,
   "metadata": {},
   "outputs": [],
   "source": [
    "# let's select the 3 most probable fonts\n",
    "res_proba = res[['p_1','p_2','p_3','p_4','p_5']]\n",
    "res_fonts = res[['font_1', 'font_2', 'font_3', 'font_4', 'font_5']]"
   ]
  },
  {
   "cell_type": "code",
   "execution_count": 4,
   "metadata": {},
   "outputs": [
    {
     "data": {
      "text/plain": [
       "[2.010788929072781e-06,\n",
       " 2.523743044753453e-05,\n",
       " 0.0003552975687895007,\n",
       " 0.012816366263895266,\n",
       " 0.9858254743029432]"
      ]
     },
     "execution_count": 4,
     "metadata": {},
     "output_type": "execute_result"
    }
   ],
   "source": [
    "# Proba font rank apparition\n",
    "p_r_fonts = [res_proba.iloc[:,i].sum()/ res_proba.shape[0]  for i in range(res_proba.shape[1])]\n",
    "p_r_fonts"
   ]
  },
  {
   "cell_type": "code",
   "execution_count": 5,
   "metadata": {},
   "outputs": [
    {
     "data": {
      "text/plain": [
       "884.0     691\n",
       "1744.0    506\n",
       "837.0     404\n",
       "2185.0    307\n",
       "217.0     202\n",
       "Name: font_5, dtype: int64"
      ]
     },
     "execution_count": 5,
     "metadata": {},
     "output_type": "execute_result"
    }
   ],
   "source": [
    "# on va considéré la derniere colonne\n",
    "res_fonts.font_5.value_counts().iloc[:5]"
   ]
  },
  {
   "cell_type": "code",
   "execution_count": 6,
   "metadata": {},
   "outputs": [],
   "source": [
    "# let's display the five most recongnized fonts\n",
    "with open('/home/joseph/Dropbox/AdobeVFR_release/fontlist.txt') as f: \n",
    "    fonts_list = f.read().split('\\n')"
   ]
  },
  {
   "cell_type": "code",
   "execution_count": 7,
   "metadata": {},
   "outputs": [
    {
     "data": {
      "text/plain": [
       "array(['GraphiteStd-BoldWide', 'OfficinaSansStd-Book',\n",
       "       'GillSansStd-Light', 'TradeGothicLTStd-Extended',\n",
       "       'BenguiatGothicStd-Book'], dtype='<U30')"
      ]
     },
     "execution_count": 7,
     "metadata": {},
     "output_type": "execute_result"
    }
   ],
   "source": [
    "fonts_list = np.asanyarray(fonts_list)\n",
    "sel_fonts = [int(i) for i in res_fonts.font_5.value_counts().iloc[:5].index]\n",
    "selected_font = fonts_list[sel_fonts]\n",
    "selected_font"
   ]
  },
  {
   "cell_type": "markdown",
   "metadata": {},
   "source": [
    "### Generating Text images with top 5 fonts"
   ]
  },
  {
   "cell_type": "code",
   "execution_count": 14,
   "metadata": {},
   "outputs": [],
   "source": [
    "fonts_files = glob.glob('/home/joseph/Projets/DeepLearning/CycleGanForDenoisingOCR/Fonts_For_OCR_Domino/*', recursive=True)"
   ]
  },
  {
   "cell_type": "code",
   "execution_count": 15,
   "metadata": {},
   "outputs": [
    {
     "data": {
      "text/plain": [
       "['/home/joseph/Projets/DeepLearning/CycleGanForDenoisingOCR/Fonts_For_OCR_Domino/itc-officina-sans-std-2-cufonfonts.zip',\n",
       " '/home/joseph/Projets/DeepLearning/CycleGanForDenoisingOCR/Fonts_For_OCR_Domino/itc-officina-sans-std-2-cufonfonts',\n",
       " '/home/joseph/Projets/DeepLearning/CycleGanForDenoisingOCR/Fonts_For_OCR_Domino/trade-gothic-lt-std.zip',\n",
       " '/home/joseph/Projets/DeepLearning/CycleGanForDenoisingOCR/Fonts_For_OCR_Domino/ITC Benguiat Gothic Std Book.zip',\n",
       " '/home/joseph/Projets/DeepLearning/CycleGanForDenoisingOCR/Fonts_For_OCR_Domino/gill-sans-std',\n",
       " '/home/joseph/Projets/DeepLearning/CycleGanForDenoisingOCR/Fonts_For_OCR_Domino/trade-gothic-lt-std',\n",
       " '/home/joseph/Projets/DeepLearning/CycleGanForDenoisingOCR/Fonts_For_OCR_Domino/Graphite Std Bold Wide.zip',\n",
       " '/home/joseph/Projets/DeepLearning/CycleGanForDenoisingOCR/Fonts_For_OCR_Domino/gill-sans-std.zip',\n",
       " '/home/joseph/Projets/DeepLearning/CycleGanForDenoisingOCR/Fonts_For_OCR_Domino/Graphite Std Bold Wide',\n",
       " '/home/joseph/Projets/DeepLearning/CycleGanForDenoisingOCR/Fonts_For_OCR_Domino/ITC Benguiat Gothic Std Book']"
      ]
     },
     "execution_count": 15,
     "metadata": {},
     "output_type": "execute_result"
    }
   ],
   "source": [
    "fonts_files"
   ]
  },
  {
   "cell_type": "code",
   "execution_count": 16,
   "metadata": {},
   "outputs": [
    {
     "name": "stdout",
     "output_type": "stream",
     "text": [
      "Python 2.7.15 :: Anaconda, Inc.\r\n"
     ]
    }
   ],
   "source": [
    "! python -V"
   ]
  },
  {
   "cell_type": "code",
   "execution_count": null,
   "metadata": {},
   "outputs": [],
   "source": []
  }
 ],
 "metadata": {
  "kernelspec": {
   "display_name": "Python 3",
   "language": "python",
   "name": "python3"
  },
  "toc": {
   "base_numbering": 1,
   "nav_menu": {},
   "number_sections": true,
   "sideBar": true,
   "skip_h1_title": false,
   "title_cell": "Table of Contents",
   "title_sidebar": "Contents",
   "toc_cell": false,
   "toc_position": {},
   "toc_section_display": true,
   "toc_window_display": true
  }
 },
 "nbformat": 4,
 "nbformat_minor": 2
}
